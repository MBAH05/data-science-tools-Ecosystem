{
 "cells": [
  {
   "cell_type": "markdown",
   "id": "07a39705",
   "metadata": {},
   "source": [
    "# Data Science Tools and Ecosystem"
   ]
  },
  {
   "cell_type": "markdown",
   "id": "e7512e3a",
   "metadata": {},
   "source": [
    "# Introdution\n",
    "In this notebook, Data Science Tools and Ecosystem are summarized."
   ]
  },
  {
   "cell_type": "markdown",
   "id": "0adfcc91",
   "metadata": {},
   "source": [
    " __Objectives:__ \n",
    "    *List popular languages for Data Science\n",
    "    *list Data science libraries\n",
    "    *List Data Science tools\n",
    "    *List Arithmetic expressions in Python"
   ]
  },
  {
   "cell_type": "markdown",
   "id": "1cb18af6",
   "metadata": {},
   "source": [
    "## data science languages\n",
    "Some of the popular languages that Data Scientists use are:\n",
    "    1-Python \n",
    "    2-R\n",
    "    3-QSL\n",
    "    4-Java\n",
    "    5-MatLab\n",
    "    6-Scala\n",
    "    7-C++\n",
    "    8-Julia\n",
    "    "
   ]
  },
  {
   "cell_type": "markdown",
   "id": "fb2e573a",
   "metadata": {},
   "source": [
    "## data science libraries\n",
    "Some of the commonly used libraries used by Data Scientists include:\n",
    "    1-Numpy\n",
    "    2-pandas\n",
    "    3-PyTorrch\n",
    "    4-TensorFlow\n",
    "    5-Matplotlib\n",
    "    6-Scikit-learn\n",
    "    7- Scipy"
   ]
  },
  {
   "cell_type": "markdown",
   "id": "46e17bf4",
   "metadata": {},
   "source": [
    "## table of Data Science tools\n",
    "|Data Science tools |\n",
    "|-------------------|\n",
    "|Jupyther Notebook  |\n",
    "|Rstudio            |\n",
    "|Apache Zeppelin    |\n"
   ]
  },
  {
   "cell_type": "markdown",
   "id": "89d26436",
   "metadata": {},
   "source": [
    "### Below are a few examples of evaluating arithmetic expressions in Python\n"
   ]
  },
  {
   "cell_type": "code",
   "execution_count": 9,
   "id": "468eca04",
   "metadata": {},
   "outputs": [
    {
     "data": {
      "text/plain": [
       "17"
      ]
     },
     "execution_count": 9,
     "metadata": {},
     "output_type": "execute_result"
    }
   ],
   "source": [
    "# This a simple arithmetic expression to mutiply then add integers\n",
    "(3*4)+5"
   ]
  },
  {
   "cell_type": "code",
   "execution_count": 10,
   "id": "ab939ec0",
   "metadata": {},
   "outputs": [
    {
     "data": {
      "text/plain": [
       "3.3333333333333335"
      ]
     },
     "execution_count": 10,
     "metadata": {},
     "output_type": "execute_result"
    }
   ],
   "source": [
    "# This will convert 200 minutes to hours by diving by 60\n",
    "200/60"
   ]
  },
  {
   "cell_type": "markdown",
   "id": "b0c217bd",
   "metadata": {},
   "source": [
    "## Author\n",
    "Maraf Mbah BAke "
   ]
  },
  {
   "cell_type": "code",
   "execution_count": null,
   "id": "b8a39b38",
   "metadata": {},
   "outputs": [],
   "source": []
  }
 ],
 "metadata": {
  "kernelspec": {
   "display_name": "Python 3 (ipykernel)",
   "language": "python",
   "name": "python3"
  },
  "language_info": {
   "codemirror_mode": {
    "name": "ipython",
    "version": 3
   },
   "file_extension": ".py",
   "mimetype": "text/x-python",
   "name": "python",
   "nbconvert_exporter": "python",
   "pygments_lexer": "ipython3",
   "version": "3.11.7"
  }
 },
 "nbformat": 4,
 "nbformat_minor": 5
}
